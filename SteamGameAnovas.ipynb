{
 "cells": [
  {
   "cell_type": "code",
   "execution_count": 28,
   "id": "acbdd87c",
   "metadata": {},
   "outputs": [],
   "source": [
    "import pandas as pd\n",
    "import numpy as np\n",
    "import scipy\n",
    "from scipy import stats\n",
    "import seaborn as sns\n",
    "from statsmodels.stats.multicomp import pairwise_tukeyhsd\n",
    "from statsmodels.stats.multicomp import MultiComparison"
   ]
  },
  {
   "cell_type": "code",
   "execution_count": 29,
   "id": "e3349eca",
   "metadata": {},
   "outputs": [],
   "source": [
    "data = pd.read_csv('C:/Users/Joshua/Documents/git/EntityFinalProject-main/steam200k_genreR.csv')"
   ]
  },
  {
   "cell_type": "code",
   "execution_count": 30,
   "id": "fe572ed8",
   "metadata": {},
   "outputs": [
    {
     "data": {
      "text/html": [
       "<div>\n",
       "<style scoped>\n",
       "    .dataframe tbody tr th:only-of-type {\n",
       "        vertical-align: middle;\n",
       "    }\n",
       "\n",
       "    .dataframe tbody tr th {\n",
       "        vertical-align: top;\n",
       "    }\n",
       "\n",
       "    .dataframe thead th {\n",
       "        text-align: right;\n",
       "    }\n",
       "</style>\n",
       "<table border=\"1\" class=\"dataframe\">\n",
       "  <thead>\n",
       "    <tr style=\"text-align: right;\">\n",
       "      <th></th>\n",
       "      <th>User</th>\n",
       "      <th>Name</th>\n",
       "      <th>Playtime</th>\n",
       "      <th>Genre</th>\n",
       "      <th>Purchace</th>\n",
       "      <th>Play</th>\n",
       "    </tr>\n",
       "  </thead>\n",
       "  <tbody>\n",
       "    <tr>\n",
       "      <th>0</th>\n",
       "      <td>151603712</td>\n",
       "      <td>Fallout 4</td>\n",
       "      <td>87.0</td>\n",
       "      <td>Role-Playing</td>\n",
       "      <td>1</td>\n",
       "      <td>1</td>\n",
       "    </tr>\n",
       "    <tr>\n",
       "      <th>1</th>\n",
       "      <td>151603712</td>\n",
       "      <td>Spore</td>\n",
       "      <td>14.9</td>\n",
       "      <td>Strategy</td>\n",
       "      <td>1</td>\n",
       "      <td>1</td>\n",
       "    </tr>\n",
       "    <tr>\n",
       "      <th>2</th>\n",
       "      <td>151603712</td>\n",
       "      <td>Left 4 Dead 2</td>\n",
       "      <td>8.9</td>\n",
       "      <td>Shooter</td>\n",
       "      <td>1</td>\n",
       "      <td>1</td>\n",
       "    </tr>\n",
       "    <tr>\n",
       "      <th>3</th>\n",
       "      <td>151603712</td>\n",
       "      <td>Left 4 Dead</td>\n",
       "      <td>3.3</td>\n",
       "      <td>Shooter</td>\n",
       "      <td>1</td>\n",
       "      <td>1</td>\n",
       "    </tr>\n",
       "    <tr>\n",
       "      <th>4</th>\n",
       "      <td>151603712</td>\n",
       "      <td>Tomb Raider</td>\n",
       "      <td>2.5</td>\n",
       "      <td>Action</td>\n",
       "      <td>1</td>\n",
       "      <td>1</td>\n",
       "    </tr>\n",
       "  </tbody>\n",
       "</table>\n",
       "</div>"
      ],
      "text/plain": [
       "        User           Name  Playtime         Genre  Purchace  Play\n",
       "0  151603712      Fallout 4      87.0  Role-Playing         1     1\n",
       "1  151603712          Spore      14.9      Strategy         1     1\n",
       "2  151603712  Left 4 Dead 2       8.9       Shooter         1     1\n",
       "3  151603712    Left 4 Dead       3.3       Shooter         1     1\n",
       "4  151603712    Tomb Raider       2.5        Action         1     1"
      ]
     },
     "execution_count": 30,
     "metadata": {},
     "output_type": "execute_result"
    }
   ],
   "source": [
    "data.head(5)"
   ]
  },
  {
   "cell_type": "markdown",
   "id": "ed7d0607",
   "metadata": {},
   "source": [
    "### Question setup\n",
    "\n",
    "###### What is the difference in playtime between Action, Sports, and Shooter games?"
   ]
  },
  {
   "cell_type": "code",
   "execution_count": 31,
   "id": "e0c43c62",
   "metadata": {},
   "outputs": [],
   "source": [
    "data=data.drop(['Purchace', 'Play'], axis=1)\n",
    "categories = ['Action', 'Sports','Shooter']\n",
    "data1 = data['Genre'].isin(categories)\n",
    "data2 = data[data1].copy()"
   ]
  },
  {
   "cell_type": "code",
   "execution_count": 32,
   "id": "df555d36",
   "metadata": {},
   "outputs": [
    {
     "data": {
      "text/html": [
       "<div>\n",
       "<style scoped>\n",
       "    .dataframe tbody tr th:only-of-type {\n",
       "        vertical-align: middle;\n",
       "    }\n",
       "\n",
       "    .dataframe tbody tr th {\n",
       "        vertical-align: top;\n",
       "    }\n",
       "\n",
       "    .dataframe thead th {\n",
       "        text-align: right;\n",
       "    }\n",
       "</style>\n",
       "<table border=\"1\" class=\"dataframe\">\n",
       "  <thead>\n",
       "    <tr style=\"text-align: right;\">\n",
       "      <th></th>\n",
       "      <th>User</th>\n",
       "      <th>Name</th>\n",
       "      <th>Playtime</th>\n",
       "      <th>Genre</th>\n",
       "    </tr>\n",
       "  </thead>\n",
       "  <tbody>\n",
       "    <tr>\n",
       "      <th>0</th>\n",
       "      <td>151603712</td>\n",
       "      <td>Fallout 4</td>\n",
       "      <td>87.0</td>\n",
       "      <td>Role-Playing</td>\n",
       "    </tr>\n",
       "    <tr>\n",
       "      <th>1</th>\n",
       "      <td>151603712</td>\n",
       "      <td>Spore</td>\n",
       "      <td>14.9</td>\n",
       "      <td>Strategy</td>\n",
       "    </tr>\n",
       "    <tr>\n",
       "      <th>2</th>\n",
       "      <td>151603712</td>\n",
       "      <td>Left 4 Dead 2</td>\n",
       "      <td>8.9</td>\n",
       "      <td>Shooter</td>\n",
       "    </tr>\n",
       "    <tr>\n",
       "      <th>3</th>\n",
       "      <td>151603712</td>\n",
       "      <td>Left 4 Dead</td>\n",
       "      <td>3.3</td>\n",
       "      <td>Shooter</td>\n",
       "    </tr>\n",
       "    <tr>\n",
       "      <th>4</th>\n",
       "      <td>151603712</td>\n",
       "      <td>Tomb Raider</td>\n",
       "      <td>2.5</td>\n",
       "      <td>Action</td>\n",
       "    </tr>\n",
       "  </tbody>\n",
       "</table>\n",
       "</div>"
      ],
      "text/plain": [
       "        User           Name  Playtime         Genre\n",
       "0  151603712      Fallout 4      87.0  Role-Playing\n",
       "1  151603712          Spore      14.9      Strategy\n",
       "2  151603712  Left 4 Dead 2       8.9       Shooter\n",
       "3  151603712    Left 4 Dead       3.3       Shooter\n",
       "4  151603712    Tomb Raider       2.5        Action"
      ]
     },
     "execution_count": 32,
     "metadata": {},
     "output_type": "execute_result"
    }
   ],
   "source": [
    "data.head(5)"
   ]
  },
  {
   "cell_type": "code",
   "execution_count": 33,
   "id": "803dffd9",
   "metadata": {},
   "outputs": [
    {
     "data": {
      "text/html": [
       "<div>\n",
       "<style scoped>\n",
       "    .dataframe tbody tr th:only-of-type {\n",
       "        vertical-align: middle;\n",
       "    }\n",
       "\n",
       "    .dataframe tbody tr th {\n",
       "        vertical-align: top;\n",
       "    }\n",
       "\n",
       "    .dataframe thead th {\n",
       "        text-align: right;\n",
       "    }\n",
       "</style>\n",
       "<table border=\"1\" class=\"dataframe\">\n",
       "  <thead>\n",
       "    <tr style=\"text-align: right;\">\n",
       "      <th></th>\n",
       "      <th>Genre</th>\n",
       "      <th>Playtime</th>\n",
       "    </tr>\n",
       "  </thead>\n",
       "  <tbody>\n",
       "    <tr>\n",
       "      <th>2</th>\n",
       "      <td>Shooter</td>\n",
       "      <td>8.9</td>\n",
       "    </tr>\n",
       "    <tr>\n",
       "      <th>3</th>\n",
       "      <td>Shooter</td>\n",
       "      <td>3.3</td>\n",
       "    </tr>\n",
       "    <tr>\n",
       "      <th>4</th>\n",
       "      <td>Action</td>\n",
       "      <td>2.5</td>\n",
       "    </tr>\n",
       "    <tr>\n",
       "      <th>5</th>\n",
       "      <td>Shooter</td>\n",
       "      <td>1.3</td>\n",
       "    </tr>\n",
       "    <tr>\n",
       "      <th>6</th>\n",
       "      <td>Action</td>\n",
       "      <td>0.6</td>\n",
       "    </tr>\n",
       "  </tbody>\n",
       "</table>\n",
       "</div>"
      ],
      "text/plain": [
       "     Genre  Playtime\n",
       "2  Shooter       8.9\n",
       "3  Shooter       3.3\n",
       "4   Action       2.5\n",
       "5  Shooter       1.3\n",
       "6   Action       0.6"
      ]
     },
     "execution_count": 33,
     "metadata": {},
     "output_type": "execute_result"
    }
   ],
   "source": [
    "data3 = data2[['Genre','Playtime']]\n",
    "data3.head(5)"
   ]
  },
  {
   "cell_type": "code",
   "execution_count": 34,
   "id": "936536ac",
   "metadata": {},
   "outputs": [
    {
     "name": "stdout",
     "output_type": "stream",
     "text": [
      "<class 'pandas.core.frame.DataFrame'>\n",
      "Int64Index: 7754 entries, 2 to 11930\n",
      "Data columns (total 2 columns):\n",
      " #   Column    Non-Null Count  Dtype  \n",
      "---  ------    --------------  -----  \n",
      " 0   Genre     7754 non-null   object \n",
      " 1   Playtime  7754 non-null   float64\n",
      "dtypes: float64(1), object(1)\n",
      "memory usage: 181.7+ KB\n"
     ]
    }
   ],
   "source": [
    "data3.info()"
   ]
  },
  {
   "cell_type": "code",
   "execution_count": 35,
   "id": "f814e445",
   "metadata": {},
   "outputs": [
    {
     "name": "stderr",
     "output_type": "stream",
     "text": [
      "C:\\Users\\Joshua\\AppData\\Local\\Temp/ipykernel_3664/4287406493.py:9: SettingWithCopyWarning: \n",
      "A value is trying to be set on a copy of a slice from a DataFrame.\n",
      "Try using .loc[row_indexer,col_indexer] = value instead\n",
      "\n",
      "See the caveats in the documentation: https://pandas.pydata.org/pandas-docs/stable/user_guide/indexing.html#returning-a-view-versus-a-copy\n",
      "  data3['GenreR'] = data3['Genre'].apply(recode)\n"
     ]
    }
   ],
   "source": [
    "def recode (series):\n",
    "    if series == \"Action\": \n",
    "        return 0\n",
    "    if series == \"Sports\": \n",
    "        return 1\n",
    "    if series == \"Shooter\": \n",
    "        return 2\n",
    "\n",
    "data3['GenreR'] = data3['Genre'].apply(recode)"
   ]
  },
  {
   "cell_type": "code",
   "execution_count": 36,
   "id": "2bc9824b",
   "metadata": {},
   "outputs": [
    {
     "data": {
      "text/html": [
       "<div>\n",
       "<style scoped>\n",
       "    .dataframe tbody tr th:only-of-type {\n",
       "        vertical-align: middle;\n",
       "    }\n",
       "\n",
       "    .dataframe tbody tr th {\n",
       "        vertical-align: top;\n",
       "    }\n",
       "\n",
       "    .dataframe thead th {\n",
       "        text-align: right;\n",
       "    }\n",
       "</style>\n",
       "<table border=\"1\" class=\"dataframe\">\n",
       "  <thead>\n",
       "    <tr style=\"text-align: right;\">\n",
       "      <th></th>\n",
       "      <th>Genre</th>\n",
       "      <th>Playtime</th>\n",
       "      <th>GenreR</th>\n",
       "    </tr>\n",
       "  </thead>\n",
       "  <tbody>\n",
       "    <tr>\n",
       "      <th>2</th>\n",
       "      <td>Shooter</td>\n",
       "      <td>8.9</td>\n",
       "      <td>2</td>\n",
       "    </tr>\n",
       "    <tr>\n",
       "      <th>3</th>\n",
       "      <td>Shooter</td>\n",
       "      <td>3.3</td>\n",
       "      <td>2</td>\n",
       "    </tr>\n",
       "    <tr>\n",
       "      <th>4</th>\n",
       "      <td>Action</td>\n",
       "      <td>2.5</td>\n",
       "      <td>0</td>\n",
       "    </tr>\n",
       "    <tr>\n",
       "      <th>5</th>\n",
       "      <td>Shooter</td>\n",
       "      <td>1.3</td>\n",
       "      <td>2</td>\n",
       "    </tr>\n",
       "    <tr>\n",
       "      <th>6</th>\n",
       "      <td>Action</td>\n",
       "      <td>0.6</td>\n",
       "      <td>0</td>\n",
       "    </tr>\n",
       "  </tbody>\n",
       "</table>\n",
       "</div>"
      ],
      "text/plain": [
       "     Genre  Playtime  GenreR\n",
       "2  Shooter       8.9       2\n",
       "3  Shooter       3.3       2\n",
       "4   Action       2.5       0\n",
       "5  Shooter       1.3       2\n",
       "6   Action       0.6       0"
      ]
     },
     "execution_count": 36,
     "metadata": {},
     "output_type": "execute_result"
    }
   ],
   "source": [
    "data3.head(5)"
   ]
  },
  {
   "cell_type": "code",
   "execution_count": 37,
   "id": "7029dbe1",
   "metadata": {},
   "outputs": [
    {
     "data": {
      "text/html": [
       "<div>\n",
       "<style scoped>\n",
       "    .dataframe tbody tr th:only-of-type {\n",
       "        vertical-align: middle;\n",
       "    }\n",
       "\n",
       "    .dataframe tbody tr th {\n",
       "        vertical-align: top;\n",
       "    }\n",
       "\n",
       "    .dataframe thead th {\n",
       "        text-align: right;\n",
       "    }\n",
       "</style>\n",
       "<table border=\"1\" class=\"dataframe\">\n",
       "  <thead>\n",
       "    <tr style=\"text-align: right;\">\n",
       "      <th></th>\n",
       "      <th>GenreR</th>\n",
       "      <th>Playtime</th>\n",
       "    </tr>\n",
       "  </thead>\n",
       "  <tbody>\n",
       "    <tr>\n",
       "      <th>2</th>\n",
       "      <td>2</td>\n",
       "      <td>8.9</td>\n",
       "    </tr>\n",
       "    <tr>\n",
       "      <th>3</th>\n",
       "      <td>2</td>\n",
       "      <td>3.3</td>\n",
       "    </tr>\n",
       "    <tr>\n",
       "      <th>4</th>\n",
       "      <td>0</td>\n",
       "      <td>2.5</td>\n",
       "    </tr>\n",
       "    <tr>\n",
       "      <th>5</th>\n",
       "      <td>2</td>\n",
       "      <td>1.3</td>\n",
       "    </tr>\n",
       "    <tr>\n",
       "      <th>6</th>\n",
       "      <td>0</td>\n",
       "      <td>0.6</td>\n",
       "    </tr>\n",
       "  </tbody>\n",
       "</table>\n",
       "</div>"
      ],
      "text/plain": [
       "   GenreR  Playtime\n",
       "2       2       8.9\n",
       "3       2       3.3\n",
       "4       0       2.5\n",
       "5       2       1.3\n",
       "6       0       0.6"
      ]
     },
     "execution_count": 37,
     "metadata": {},
     "output_type": "execute_result"
    }
   ],
   "source": [
    "data4 = data3[['GenreR','Playtime']]\n",
    "data4.head(5)"
   ]
  },
  {
   "cell_type": "markdown",
   "id": "dda07527",
   "metadata": {},
   "source": [
    "### Test Normality"
   ]
  },
  {
   "cell_type": "code",
   "execution_count": 38,
   "id": "5c5524ab",
   "metadata": {},
   "outputs": [
    {
     "name": "stderr",
     "output_type": "stream",
     "text": [
      "C:\\Users\\Joshua\\anaconda3\\lib\\site-packages\\seaborn\\distributions.py:2619: FutureWarning: `distplot` is a deprecated function and will be removed in a future version. Please adapt your code to use either `displot` (a figure-level function with similar flexibility) or `histplot` (an axes-level function for histograms).\n",
      "  warnings.warn(msg, FutureWarning)\n"
     ]
    },
    {
     "data": {
      "text/plain": [
       "<AxesSubplot:xlabel='Playtime', ylabel='Density'>"
      ]
     },
     "execution_count": 38,
     "metadata": {},
     "output_type": "execute_result"
    },
    {
     "data": {
      "image/png": "[encoded data removed]",
      "text/plain": [
       "<Figure size 432x288 with 1 Axes>"
      ]
     },
     "metadata": {
      "needs_background": "light"
     },
     "output_type": "display_data"
    }
   ],
   "source": [
    "sns.distplot(data4['Playtime'])"
   ]
  },
  {
   "cell_type": "code",
   "execution_count": 39,
   "id": "429efeef",
   "metadata": {},
   "outputs": [],
   "source": [
    "data4['PlaytimeSQRT'] = np.sqrt(data4['Playtime'])"
   ]
  },
  {
   "cell_type": "code",
   "execution_count": 40,
   "id": "e7f00550",
   "metadata": {},
   "outputs": [
    {
     "name": "stderr",
     "output_type": "stream",
     "text": [
      "C:\\Users\\Joshua\\anaconda3\\lib\\site-packages\\seaborn\\distributions.py:2619: FutureWarning: `distplot` is a deprecated function and will be removed in a future version. Please adapt your code to use either `displot` (a figure-level function with similar flexibility) or `histplot` (an axes-level function for histograms).\n",
      "  warnings.warn(msg, FutureWarning)\n"
     ]
    },
    {
     "data": {
      "text/plain": [
       "<AxesSubplot:xlabel='PlaytimeSQRT', ylabel='Density'>"
      ]
     },
     "execution_count": 40,
     "metadata": {},
     "output_type": "execute_result"
    },
    {
     "data": {
      "image/png": "[encoded data removed]",
      "text/plain": [
       "<Figure size 432x288 with 1 Axes>"
      ]
     },
     "metadata": {
      "needs_background": "light"
     },
     "output_type": "display_data"
    }
   ],
   "source": [
    "sns.distplot(data4['PlaytimeSQRT'])"
   ]
  },
  {
   "cell_type": "markdown",
   "id": "172b978e",
   "metadata": {},
   "source": [
    "### Test for Homogeneity of Variance"
   ]
  },
  {
   "cell_type": "markdown",
   "id": "77dd0692",
   "metadata": {},
   "source": [
    "#### First we try Bartlett's Test"
   ]
  },
  {
   "cell_type": "code",
   "execution_count": 41,
   "id": "e256d0c1",
   "metadata": {},
   "outputs": [
    {
     "data": {
      "text/plain": [
       "BartlettResult(statistic=14978.897294702057, pvalue=0.0)"
      ]
     },
     "execution_count": 41,
     "metadata": {},
     "output_type": "execute_result"
    }
   ],
   "source": [
    "scipy.stats.bartlett(data4['PlaytimeSQRT'], data4['GenreR'])"
   ]
  },
  {
   "cell_type": "markdown",
   "id": "642fe7a7",
   "metadata": {},
   "source": [
    "###### The p value associated with this test is < .05, which means that unfortunately, we have violated the assumption of homogeneity of variance."
   ]
  },
  {
   "cell_type": "markdown",
   "id": "515b86b8",
   "metadata": {},
   "source": [
    "#### Next we try Fligner's Test"
   ]
  },
  {
   "cell_type": "code",
   "execution_count": 42,
   "id": "43d6a621",
   "metadata": {},
   "outputs": [
    {
     "data": {
      "text/plain": [
       "FlignerResult(statistic=3070.2221524192432, pvalue=0.0)"
      ]
     },
     "execution_count": 42,
     "metadata": {},
     "output_type": "execute_result"
    }
   ],
   "source": [
    "scipy.stats.fligner(data4['PlaytimeSQRT'], data4['GenreR'])"
   ]
  },
  {
   "cell_type": "markdown",
   "id": "dd37a6e1",
   "metadata": {},
   "source": [
    "###### The p value is still < .05, which means we have violated the assumption of homogeneity of variance."
   ]
  },
  {
   "cell_type": "markdown",
   "id": "66258a35",
   "metadata": {},
   "source": [
    "### Computing ANOVAs with Unequal Variance\n",
    "###### Take results with a grain of salt due to potential inaccuracies"
   ]
  },
  {
   "cell_type": "markdown",
   "id": "3337b485",
   "metadata": {},
   "source": [
    "#### Computing Post Hocs with Tukey's"
   ]
  },
  {
   "cell_type": "code",
   "execution_count": 43,
   "id": "82461a3f",
   "metadata": {},
   "outputs": [
    {
     "name": "stdout",
     "output_type": "stream",
     "text": [
      "Multiple Comparison of Means - Tukey HSD, FWER=0.05\n",
      "===================================================\n",
      "group1 group2 meandiff p-adj  lower   upper  reject\n",
      "---------------------------------------------------\n",
      "     0      1   7.8481 0.001  7.3588  8.3373   True\n",
      "     0      2  -0.3969 0.001 -0.6418  -0.152   True\n",
      "     1      2   -8.245 0.001 -8.7277 -7.7622   True\n",
      "---------------------------------------------------\n"
     ]
    }
   ],
   "source": [
    "postHoc = MultiComparison(data4['PlaytimeSQRT'], data4['GenreR'])\n",
    "postHocResults = postHoc.tukeyhsd()\n",
    "print(postHocResults)"
   ]
  },
  {
   "cell_type": "markdown",
   "id": "958eadf2",
   "metadata": {},
   "source": [
    "#### Determine Means and Draw Conclusions"
   ]
  },
  {
   "cell_type": "code",
   "execution_count": 44,
   "id": "0e7eff7a",
   "metadata": {},
   "outputs": [
    {
     "data": {
      "text/html": [
       "<div>\n",
       "<style scoped>\n",
       "    .dataframe tbody tr th:only-of-type {\n",
       "        vertical-align: middle;\n",
       "    }\n",
       "\n",
       "    .dataframe tbody tr th {\n",
       "        vertical-align: top;\n",
       "    }\n",
       "\n",
       "    .dataframe thead th {\n",
       "        text-align: right;\n",
       "    }\n",
       "</style>\n",
       "<table border=\"1\" class=\"dataframe\">\n",
       "  <thead>\n",
       "    <tr style=\"text-align: right;\">\n",
       "      <th></th>\n",
       "      <th>Playtime</th>\n",
       "      <th>PlaytimeSQRT</th>\n",
       "    </tr>\n",
       "    <tr>\n",
       "      <th>GenreR</th>\n",
       "      <th></th>\n",
       "      <th></th>\n",
       "    </tr>\n",
       "  </thead>\n",
       "  <tbody>\n",
       "    <tr>\n",
       "      <th>0</th>\n",
       "      <td>31.321470</td>\n",
       "      <td>4.142476</td>\n",
       "    </tr>\n",
       "    <tr>\n",
       "      <th>1</th>\n",
       "      <td>250.372885</td>\n",
       "      <td>11.990538</td>\n",
       "    </tr>\n",
       "    <tr>\n",
       "      <th>2</th>\n",
       "      <td>26.538254</td>\n",
       "      <td>3.745577</td>\n",
       "    </tr>\n",
       "  </tbody>\n",
       "</table>\n",
       "</div>"
      ],
      "text/plain": [
       "          Playtime  PlaytimeSQRT\n",
       "GenreR                          \n",
       "0        31.321470      4.142476\n",
       "1       250.372885     11.990538\n",
       "2        26.538254      3.745577"
      ]
     },
     "execution_count": 44,
     "metadata": {},
     "output_type": "execute_result"
    }
   ],
   "source": [
    "data4.groupby('GenreR').mean()"
   ]
  },
  {
   "cell_type": "markdown",
   "id": "84e4cb93",
   "metadata": {},
   "source": [
    "###### Our data shows using the mean of each Genre in this subset of data, Sports has the highest playtime at 250.37 hours, followed by Action at 31.32 hours then fianlly Shooter at 26.54 hours.\n"
   ]
  },
  {
   "cell_type": "code",
   "execution_count": null,
   "id": "d6b1af3f",
   "metadata": {},
   "outputs": [],
   "source": []
  }
 ],
 "metadata": {
  "kernelspec": {
   "display_name": "Python 3 (ipykernel)",
   "language": "python",
   "name": "python3"
  },
  "language_info": {
   "codemirror_mode": {
    "name": "ipython",
    "version": 3
   },
   "file_extension": ".py",
   "mimetype": "text/x-python",
   "name": "python",
   "nbconvert_exporter": "python",
   "pygments_lexer": "ipython3",
   "version": "3.9.7"
  }
 },
 "nbformat": 4,
 "nbformat_minor": 5
}
